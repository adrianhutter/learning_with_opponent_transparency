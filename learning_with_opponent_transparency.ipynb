{
  "nbformat": 4,
  "nbformat_minor": 0,
  "metadata": {
    "colab": {
      "name": "learning_with_opponent_transparency.ipynb",
      "provenance": [],
      "collapsed_sections": [],
      "authorship_tag": "ABX9TyO1X/oPKJD6Lr/HHxy7IEvY",
      "include_colab_link": true
    },
    "kernelspec": {
      "name": "python3",
      "display_name": "Python 3"
    }
  },
  "cells": [
    {
      "cell_type": "markdown",
      "metadata": {
        "id": "view-in-github",
        "colab_type": "text"
      },
      "source": [
        "<a href=\"https://colab.research.google.com/github/adrianhutter/learning_with_opponent_transparency/blob/main/learning_with_opponent_transparency.ipynb\" target=\"_parent\"><img src=\"https://colab.research.google.com/assets/colab-badge.svg\" alt=\"Open In Colab\"/></a>"
      ]
    },
    {
      "cell_type": "markdown",
      "metadata": {
        "id": "1JubyGMcWSPZ"
      },
      "source": [
        "Proof-of-principle implementation of the main ideas in \"Learning in two-player games between transparent opponents\"."
      ]
    },
    {
      "cell_type": "code",
      "metadata": {
        "id": "T2RIcebyKG34"
      },
      "source": [
        "import numpy as np\n",
        "import matplotlib.pyplot as plt\n",
        "import pandas as pd\n",
        "import torch as T\n",
        "import datetime"
      ],
      "execution_count": 1,
      "outputs": []
    },
    {
      "cell_type": "markdown",
      "metadata": {
        "id": "od3jVZnNGLTD"
      },
      "source": [
        "Calculates action-probabilities  in 2-player, 2-action games, in which both players can predict each other (cf. Sec. 3 of the paper)."
      ]
    },
    {
      "cell_type": "code",
      "metadata": {
        "id": "4AI2KIACLuDX"
      },
      "source": [
        "def transparent_decision_making(params_A, params_B, epsilon=1e-3):\n",
        "    \"\"\"\n",
        "    Decision-making under mutual transparency for a 2-player, 2-action game.\n",
        "    Inputs: tensors of shape [4], describing players' parameters, which are \n",
        "    converted to probabilities using sigmoid.\n",
        "    Parameter 0 -> Pr[0|~P] (probability of choosing action 0 when not \n",
        "                             predicting the opponent)\n",
        "    Parameter 1 -> Pr[0|0] (probability of choosing action 0 when the opponent's \n",
        "                            predicted action is 0)\n",
        "    Parameter 2 -> Pr[0|1] (probability of choosing action 0 when the opponent's \n",
        "                            predicted action is 1)\n",
        "    Parameter 3 -> Pr[P] (probability of predicting the opponent)\n",
        "    epsilon is the minimial probability of an opponent-independent response.\n",
        "    Returns both players' probabilities of playing action 0.\n",
        "    \"\"\"\n",
        "    probs_A = T.sigmoid(params_A[:3])\n",
        "    probs_A = T.stack([probs_A, 1 - probs_A])\n",
        "    v_A = probs_A[:, 0]\n",
        "    M_A = probs_A[:, 1:]\n",
        "    p_simu_A = T.clamp(T.sigmoid(params_A[3]), 0, 1-epsilon)\n",
        "\n",
        "    probs_B = T.sigmoid(params_B[:3])\n",
        "    probs_B = T.stack([probs_B, 1 - probs_B])\n",
        "    v_B = probs_B[:, 0]\n",
        "    M_B = probs_B[:, 1:]\n",
        "    p_simu_B = T.clamp(T.sigmoid(params_B[3]), 0, 1-epsilon)\n",
        "\n",
        "    R_A = (1-p_simu_A) * v_A + p_simu_A * (1-p_simu_B) * T.matmul(M_A, v_B)\n",
        "    S_A = T.eye(2) - p_simu_B * p_simu_A * T.matmul(M_A, M_B)\n",
        "    response_A = T.matmul(T.inverse(S_A), R_A)\n",
        "    R_B = (1-p_simu_B) * v_B + p_simu_B * (1-p_simu_A) * T.matmul(M_B, v_A)\n",
        "    S_B = T.eye(2) - p_simu_A * p_simu_B * T.matmul(M_B, M_A) \n",
        "    response_B = T.matmul(T.inverse(S_B), R_B)\n",
        "    \n",
        "    assert T.allclose(T.sum(response_A), T.tensor(1.), rtol=1e-3), \\\n",
        "        'response_A not normalized'\n",
        "    assert T.allclose(T.sum(response_B), T.tensor(1.), rtol=1e-3), \\\n",
        "        'response_B not normalized'\n",
        "    assert (response_A >= 0.).byte().all(), 'response_A not non-negative'\n",
        "    assert (response_B >= 0.).byte().all(), 'response_B not non-negative'\n",
        "\n",
        "    return (response_A[0], response_B[0])"
      ],
      "execution_count": 2,
      "outputs": []
    },
    {
      "cell_type": "markdown",
      "metadata": {
        "id": "jECoWFKWVOSv"
      },
      "source": [
        "For illustration, test this with a few simple agents:\n",
        "\n",
        "*   \"defector\": unconditionally defects with high probability\n",
        "*   \"cooperator\": unconditionally cooperates with high probability\n",
        "* \"coin fliper\": takes each possible action with probability $\\frac{1}{2}$.\n",
        "* $\\varepsilon$GroundedFairBot: cooperates unconditionally with small probability, otherwise mirrors the opponents action\n"
      ]
    },
    {
      "cell_type": "code",
      "metadata": {
        "id": "n1M9tAirH1_m",
        "colab": {
          "base_uri": "https://localhost:8080/"
        },
        "outputId": "e1c27cb8-4447-4795-fe90-7681c1b36d30"
      },
      "source": [
        "# Assume action 0 is cooperation, and action 1 is defection.\n",
        "agents = [\n",
        "          ('defector', T.tensor([-20.,-20.,-20.,-20.])),\n",
        "          ('cooperator', T.tensor([20.,20.,20.,-20.])),\n",
        "          ('coin_fliper', T.tensor([0.,0.,0.,0.])),\n",
        "          ('epsilon_grounded_fair_bot', T.tensor([20.,20.,-20.,20.])),\n",
        "]\n",
        "for i, agent_A in enumerate(agents):\n",
        "    for j, agent_B in enumerate(agents):\n",
        "        if j < i:\n",
        "            continue\n",
        "        pr_C_A, pr_C_B = transparent_decision_making(agent_A[1], agent_B[1])\n",
        "        msg = f\"Agent A = {agent_A[0]}, agent B = {agent_B[0]}, \"\n",
        "        msg += f\"Pr[C]_A = {pr_C_A:.3f}, Pr[C]_B = {pr_C_B:.3f}\"\n",
        "        print(msg)"
      ],
      "execution_count": 3,
      "outputs": [
        {
          "output_type": "stream",
          "text": [
            "Agent A = defector, agent B = defector, Pr[C]_A = 0.000, Pr[C]_B = 0.000\n",
            "Agent A = defector, agent B = cooperator, Pr[C]_A = 0.000, Pr[C]_B = 1.000\n",
            "Agent A = defector, agent B = coin_fliper, Pr[C]_A = 0.000, Pr[C]_B = 0.500\n",
            "Agent A = defector, agent B = epsilon_grounded_fair_bot, Pr[C]_A = 0.000, Pr[C]_B = 0.001\n",
            "Agent A = cooperator, agent B = cooperator, Pr[C]_A = 1.000, Pr[C]_B = 1.000\n",
            "Agent A = cooperator, agent B = coin_fliper, Pr[C]_A = 1.000, Pr[C]_B = 0.500\n",
            "Agent A = cooperator, agent B = epsilon_grounded_fair_bot, Pr[C]_A = 1.000, Pr[C]_B = 1.000\n",
            "Agent A = coin_fliper, agent B = coin_fliper, Pr[C]_A = 0.500, Pr[C]_B = 0.500\n",
            "Agent A = coin_fliper, agent B = epsilon_grounded_fair_bot, Pr[C]_A = 0.500, Pr[C]_B = 0.501\n",
            "Agent A = epsilon_grounded_fair_bot, agent B = epsilon_grounded_fair_bot, Pr[C]_A = 1.000, Pr[C]_B = 1.000\n"
          ],
          "name": "stdout"
        }
      ]
    },
    {
      "cell_type": "code",
      "metadata": {
        "id": "TxajJ9kJPg0l"
      },
      "source": [
        "def actions_to_payoffs(game, p_C_A, p_C_B):\n",
        "    p_CC, p_CD, p_DC, p_DD = p_C_A * p_C_B, p_C_A * (1-p_C_B), \\\n",
        "                             (1-p_C_A) * p_C_B, (1-p_C_A) * (1-p_C_B)\n",
        "    if game == 'prisoners_dilemma':\n",
        "        S, P, R, T = 0, 10, 30, 40\n",
        "    elif game == 'chicken':\n",
        "        S, P, R, T = 0, -30, 30, 40\n",
        "    else:\n",
        "        raise ValueError(f\"unsupported game '{game}'\")\n",
        "    V_A = p_CC * R + p_CD * S + p_DC * T + p_DD * P\n",
        "    V_B = p_CC * R + p_CD * T + p_DC * S + p_DD * P\n",
        "    return (V_A, V_B)"
      ],
      "execution_count": 4,
      "outputs": []
    },
    {
      "cell_type": "code",
      "metadata": {
        "id": "xKYpiPpkMXIb"
      },
      "source": [
        "def naive_gradients(params_A, params_B, params_to_payoffs):\n",
        "    V_A, V_B = params_to_payoffs(params_A, params_B)\n",
        "    grad_A = T.autograd.grad(V_A, params_A, create_graph=True)[0]\n",
        "    grad_B = T.autograd.grad(V_B, params_B)[0]\n",
        "    return grad_A, grad_B"
      ],
      "execution_count": 5,
      "outputs": []
    },
    {
      "cell_type": "code",
      "metadata": {
        "id": "i57-8pVEQ7rf"
      },
      "source": [
        "def lola_gradients(params_A, params_B, eta_A, eta_B, params_to_payoffs):\n",
        "    grad = T.autograd.grad\n",
        "    V_A, V_B = params_to_payoffs(params_A, params_B)\n",
        "    grad_naive_A = grad(V_A, params_A, create_graph=True)[0]\n",
        "    grad_naive_B = grad(V_B, params_B, create_graph=True)[0]\n",
        "    params_lookahead_A = params_A + eta_B * grad_naive_A.detach()\n",
        "    params_lookahead_B = params_B + eta_A * grad_naive_B.detach()\n",
        "    V_lookahead_A, _ = params_to_payoffs(params_A, params_lookahead_B)\n",
        "    _, V_lookahead_B = params_to_payoffs(params_lookahead_A, params_B)\n",
        "    grad_A = grad(V_lookahead_A, params_A, create_graph=True)[0]\n",
        "    grad_B = grad(V_lookahead_B, params_B, create_graph=True)[0]\n",
        "    def shaping_correction(params_self, params_opponent, V_lookahead_self, \n",
        "                           grad_naive_opponent):\n",
        "        vec = grad(V_lookahead_self, params_opponent)[0].detach()\n",
        "        return grad(T.matmul(vec, grad_naive_opponent), params_self, \n",
        "                    retain_graph=True)[0]\n",
        "    grad_A += eta_A * shaping_correction(params_A, params_B, V_lookahead_A, \n",
        "                                         grad_naive_B)\n",
        "    grad_B += eta_B * shaping_correction(params_B, params_A, V_lookahead_B, \n",
        "                                         grad_naive_A)\n",
        "    return grad_A, grad_B"
      ],
      "execution_count": 6,
      "outputs": []
    },
    {
      "cell_type": "code",
      "metadata": {
        "id": "uOzrmV4SVKvI"
      },
      "source": [
        "def sos_gradients(params_A, params_B, eta_A, eta_B, params_to_payoffs,\n",
        "                  a=0.5, b=0.1):\n",
        "    V_A, V_B = params_to_payoffs(params_A, params_B)\n",
        "    grad = lambda fun, params: T.autograd.grad(fun, params, \n",
        "                                               create_graph=True)[0]\n",
        "    grad_A_A = grad(V_A, params_A)\n",
        "    grad_A_B = grad(V_A, params_B)\n",
        "    grad_B_A = grad(V_B, params_A)\n",
        "    grad_B_B = grad(V_B, params_B)\n",
        "    xi_0_A = grad_A_A + \\\n",
        "             eta_A * grad(T.dot(grad_A_B, grad_B_B.detach()), params_A)\n",
        "    xi_0_B = grad_B_B + \\\n",
        "             eta_B * grad(T.dot(grad_B_A, grad_A_A.detach()), params_B)\n",
        "    chi_A = eta_A * grad(T.dot(grad_A_B.detach(), grad_B_B), params_A) \n",
        "    chi_B = eta_B * grad(T.dot(grad_B_A.detach(), grad_A_A), params_B)\n",
        "    def p(grad_naive, xi_0, chi):\n",
        "        dot_prod = T.dot(chi, xi_0)\n",
        "        p_1 = 1 if dot_prod >= 0 else min(1, -a * T.norm(xi_0)**2 / dot_prod)\n",
        "        grad_naive_norm = T.norm(grad_naive)\n",
        "        p_2 = grad_naive_norm**2 if grad_naive_norm < b else 1\n",
        "        return min(p_1, p_2)\n",
        "    grad_A = xi_0_A + p(grad_A_A, xi_0_A, chi_A) * chi_A\n",
        "    grad_B = xi_0_B + p(grad_B_B, xi_0_B, chi_B) * chi_B\n",
        "    assert T.dot(grad_A, xi_0_A) >= 0 and T.dot(grad_B, xi_0_B) >= 0\n",
        "    return grad_A, grad_B"
      ],
      "execution_count": 7,
      "outputs": []
    },
    {
      "cell_type": "code",
      "metadata": {
        "id": "FdGVZ5WGKjuQ"
      },
      "source": [
        "def learn(game, \n",
        "          algo_A,\n",
        "          algo_B,\n",
        "          lr_A=1, \n",
        "          lr_B=1, \n",
        "          eta_A=1, \n",
        "          eta_B=1,\n",
        "          std=0.1,\n",
        "          n_steps=400,\n",
        "          ):\n",
        "    assert game in {'prisoners_dilemma', 'chicken'}\n",
        "    assert all(algo in {'naive', 'lola', 'sos'} for algo in [algo_A, algo_B])\n",
        "\n",
        "    def params_to_payoffs(params_A, params_B):\n",
        "        p_C_A, p_C_B = transparent_decision_making(params_A, params_B)\n",
        "        V_A, V_B = actions_to_payoffs(game, p_C_A, p_C_B)\n",
        "        return (V_A, V_B)\n",
        "\n",
        "    params_A = std * T.randn(4)\n",
        "    params_B = std * T.randn(4)\n",
        "    params_A.requires_grad_()\n",
        "    params_B.requires_grad_()\n",
        "    outcomes = []\n",
        "    for i in range(n_steps):\n",
        "        p_C_A, p_C_B = transparent_decision_making(params_A, params_B)\n",
        "        V_A, V_B = actions_to_payoffs(game, p_C_A, p_C_B)\n",
        "        outcome = {'p_C_A': p_C_A.detach().numpy(), \n",
        "                   'p_C_B': p_C_B.detach().numpy(), \n",
        "                   'V_A': V_A.item(), \n",
        "                   'V_B': V_B.item(),\n",
        "                   }\n",
        "        outcomes.append(outcome)\n",
        "        grad_naive_A, grad_naive_B, grad_lola_A, grad_lola_B, \\\n",
        "        grad_sos_A, grad_sos_B = (None,) * 6\n",
        "        if algo_A == 'naive' or algo_B == 'naive':\n",
        "            grad_naive_A, grad_naive_B = \\\n",
        "                naive_gradients(params_A, params_B, params_to_payoffs)\n",
        "        if algo_A == 'lola' or algo_B == 'lola':\n",
        "            grad_lola_A, grad_lola_B = \\\n",
        "                lola_gradients(params_A, params_B, \n",
        "                               eta_A, eta_B, \n",
        "                               params_to_payoffs)\n",
        "        if algo_A == 'sos' or algo_B == 'sos':\n",
        "            grad_sos_A, grad_sos_B = \\\n",
        "                sos_gradients(params_A, params_B, eta_A, eta_B, \n",
        "                              params_to_payoffs)\n",
        "        grad_A, grad_B = None, None\n",
        "        if algo_A == 'naive':\n",
        "            grad_A = grad_naive_A\n",
        "        elif algo_A == 'lola':\n",
        "            grad_A = grad_lola_A\n",
        "        elif algo_A == 'sos':\n",
        "            grad_A = grad_sos_A\n",
        "        if algo_B == 'naive':\n",
        "            grad_B = grad_naive_B\n",
        "        elif algo_B == 'lola':\n",
        "            grad_B = grad_lola_B\n",
        "        elif algo_B == 'sos':\n",
        "            grad_B = grad_sos_B\n",
        "        assert grad_A is not None and grad_B is not None\n",
        "        with T.no_grad():\n",
        "            params_A += lr_A * grad_A\n",
        "            params_B += lr_B * grad_B\n",
        "    \n",
        "    return outcomes"
      ],
      "execution_count": 8,
      "outputs": []
    },
    {
      "cell_type": "code",
      "metadata": {
        "id": "3O_1dkVfDyE3"
      },
      "source": [
        "def t_to_str(t):\n",
        "    return str(t.time()).split('.')[0]\n",
        "\n",
        "def now_str():\n",
        "    return t_to_str(datetime.datetime.now())"
      ],
      "execution_count": 9,
      "outputs": []
    },
    {
      "cell_type": "code",
      "metadata": {
        "id": "D6m1-OjDe0qM"
      },
      "source": [
        "def experiment(game, \n",
        "               algo_A,\n",
        "               algo_B,\n",
        "               lr_A=1, \n",
        "               lr_B=1, \n",
        "               eta_A=1, \n",
        "               eta_B=1,\n",
        "               std=0.1,\n",
        "               n_steps=200,\n",
        "               n_sample=100,\n",
        "               mute=False,\n",
        "              ):\n",
        "    all_outcomes = []\n",
        "    perc = 10\n",
        "    if not mute:\n",
        "        print(f\"{now_str()}: Starting\")\n",
        "    t_start = datetime.datetime.now()\n",
        "    for i in range(n_sample):\n",
        "        if not mute and i >= perc * n_sample / 100:\n",
        "            t = datetime.datetime.now()\n",
        "            t_end = t + (t - t_start) * (n_sample - i) / i\n",
        "            msg = f\"{now_str()}: {perc}% done; \"\n",
        "            msg += f\"expect to finish at {t_to_str(t_end)}\"\n",
        "            print(msg)\n",
        "            perc += 10 \n",
        "        outcomes = learn(game=game, \n",
        "                         algo_A=algo_A, \n",
        "                         algo_B=algo_B, \n",
        "                         lr_A=lr_A, \n",
        "                         lr_B=lr_B, \n",
        "                         eta_A=eta_A, \n",
        "                         eta_B=eta_B, \n",
        "                         std=std, \n",
        "                         n_steps=n_steps, \n",
        "                         )\n",
        "        all_outcomes.append(outcomes)\n",
        "    return all_outcomes"
      ],
      "execution_count": 10,
      "outputs": []
    },
    {
      "cell_type": "code",
      "metadata": {
        "id": "pMiaZVFSjXmq",
        "colab": {
          "base_uri": "https://localhost:8080/"
        },
        "outputId": "e2702588-15ca-4b11-b2c8-6677ea4336a5"
      },
      "source": [
        "%%time\n",
        "results_naive = experiment('prisoners_dilemma', algo_A='naive', algo_B='naive')"
      ],
      "execution_count": 11,
      "outputs": [
        {
          "output_type": "stream",
          "text": [
            "15:34:00: Starting\n",
            "15:34:06: 10% done; expect to finish at 15:35:06\n",
            "15:34:14: 20% done; expect to finish at 15:35:08\n",
            "15:34:20: 30% done; expect to finish at 15:35:07\n",
            "15:34:27: 40% done; expect to finish at 15:35:08\n",
            "15:34:34: 50% done; expect to finish at 15:35:07\n",
            "15:34:40: 60% done; expect to finish at 15:35:07\n",
            "15:34:47: 70% done; expect to finish at 15:35:07\n",
            "15:34:54: 80% done; expect to finish at 15:35:07\n",
            "15:35:00: 90% done; expect to finish at 15:35:07\n",
            "CPU times: user 1min 7s, sys: 226 ms, total: 1min 7s\n",
            "Wall time: 1min 7s\n"
          ],
          "name": "stdout"
        }
      ]
    },
    {
      "cell_type": "code",
      "metadata": {
        "id": "gJVUTf-DjP3h",
        "colab": {
          "base_uri": "https://localhost:8080/"
        },
        "outputId": "e1339b8c-8efa-477e-f62a-7316955d8c57"
      },
      "source": [
        "%%time\n",
        "results_lola = experiment('prisoners_dilemma', algo_A='lola', algo_B='lola')"
      ],
      "execution_count": 12,
      "outputs": [
        {
          "output_type": "stream",
          "text": [
            "15:35:07: Starting\n",
            "15:35:31: 10% done; expect to finish at 15:39:04\n",
            "15:35:54: 20% done; expect to finish at 15:39:03\n",
            "15:36:18: 30% done; expect to finish at 15:39:03\n",
            "15:36:42: 40% done; expect to finish at 15:39:04\n",
            "15:37:05: 50% done; expect to finish at 15:39:02\n",
            "15:37:28: 60% done; expect to finish at 15:39:02\n",
            "15:37:51: 70% done; expect to finish at 15:39:02\n",
            "15:38:15: 80% done; expect to finish at 15:39:02\n",
            "15:38:38: 90% done; expect to finish at 15:39:01\n",
            "CPU times: user 3min 52s, sys: 436 ms, total: 3min 53s\n",
            "Wall time: 3min 53s\n"
          ],
          "name": "stdout"
        }
      ]
    },
    {
      "cell_type": "code",
      "metadata": {
        "id": "as-VF1p2if8X",
        "colab": {
          "base_uri": "https://localhost:8080/"
        },
        "outputId": "3614d889-5c8e-4022-fcd8-e769df3733e2"
      },
      "source": [
        "%%time\n",
        "results_sos = experiment('prisoners_dilemma', algo_A='sos', algo_B='sos')"
      ],
      "execution_count": 13,
      "outputs": [
        {
          "output_type": "stream",
          "text": [
            "15:39:01: Starting\n",
            "15:39:31: 10% done; expect to finish at 15:44:02\n",
            "15:40:01: 20% done; expect to finish at 15:44:01\n",
            "15:40:32: 30% done; expect to finish at 15:44:04\n",
            "15:41:02: 40% done; expect to finish at 15:44:03\n",
            "15:41:31: 50% done; expect to finish at 15:44:02\n",
            "15:42:01: 60% done; expect to finish at 15:44:01\n",
            "15:42:32: 70% done; expect to finish at 15:44:02\n",
            "15:43:01: 80% done; expect to finish at 15:44:01\n",
            "15:43:31: 90% done; expect to finish at 15:44:01\n",
            "CPU times: user 4min 59s, sys: 288 ms, total: 4min 59s\n",
            "Wall time: 4min 59s\n"
          ],
          "name": "stdout"
        }
      ]
    },
    {
      "cell_type": "code",
      "metadata": {
        "id": "9g6yMxG1kK-4",
        "colab": {
          "base_uri": "https://localhost:8080/",
          "height": 529
        },
        "outputId": "c5bdbdb6-7bf7-431a-a6ae-ad85e3e68ebe"
      },
      "source": [
        "plt.figure(figsize=(15, 8))\n",
        "for algo, outcomes in [('Naive', results_naive),\n",
        "                       ('LOLA', results_lola),\n",
        "                       ('SOS', results_sos), \n",
        "                       ]:\n",
        "    Vs = np.array([[o['V_A'] for o in oo] for oo in outcomes] + \\\n",
        "                  [[o['V_B'] for o in oo] for oo in outcomes])\n",
        "    means, stds = np.mean(Vs, axis=0), np.std(Vs, axis=0)\n",
        "    steps = np.arange(len(means))\n",
        "    plt.plot(steps, means, label=f\"{algo} vs. {algo}\")\n",
        "    plt.fill_between(steps, means-stds, means+stds, alpha=0.08)\n",
        "plt.title(\"Prisoner's Dilemma Results\", fontsize=18)\n",
        "plt.xlabel(\"Learning Step\", fontsize=18)\n",
        "plt.ylabel(\"Average Reward\", fontsize=18)\n",
        "plt.tick_params(axis='both', which='major', labelsize=14)\n",
        "plt.tick_params(axis='both', which='minor', labelsize=14)\n",
        "plt.legend(loc='lower center', frameon=True, framealpha=1, ncol=3, fontsize=18)\n",
        "plt.show()"
      ],
      "execution_count": 14,
      "outputs": [
        {
          "output_type": "display_data",
          "data": {
            "image/png": "[encoded data removed]",
            "text/plain": [
              "<Figure size 1080x576 with 1 Axes>"
            ]
          },
          "metadata": {
            "tags": [],
            "needs_background": "light"
          }
        }
      ]
    }
  ]
}